import numpy as np

def test_model(model, X_test, y_test):
    # Generate 10 random indices
    random_indices = np.random.choice(len(X_test), size=10, replace=False)
    
    # Load the random images and their corresponding labels
    X_test_random = X_test[random_indices]
    y_test_random = y_test[random_indices]
    
    # Predict labels using the model
    y_pred = model.predict_classes(X_test_random)
    
    # Print true label vs predicted label
    for i in range(len(y_test_random)):
        true_label = y_test_random[i]
        predicted_label = y_pred[i]
        print(f"True Label: {true_label}, Predicted Label: {predicted_label}")